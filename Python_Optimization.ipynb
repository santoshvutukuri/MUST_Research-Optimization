{
 "cells": [
  {
   "cell_type": "markdown",
   "source": [
    "## Optimization"
   ],
   "metadata": {}
  },
  {
   "cell_type": "code",
   "execution_count": 362,
   "source": [
    "import numpy as np\r\n",
    "import pandas as pd\r\n",
    "import matplotlib.pyplot as plt\r\n",
    "from pulp import *"
   ],
   "outputs": [],
   "metadata": {}
  },
  {
   "cell_type": "markdown",
   "source": [
    "Case Study 1"
   ],
   "metadata": {}
  },
  {
   "cell_type": "markdown",
   "source": [
    "- Whiskas cat food is manufactured by Uncle Ben’s. \r\n",
    "- Uncle Ben’s want to produce their cat food products as cheaply as possible \r\n",
    "    - while ensuring they meet the stated nutritional analysis requirements shown on the cans. \r\n",
    "    - Thus they want to vary the quantities of each ingredient used\r\n",
    "\r\n",
    "\r\n",
    "![alt text](Cost_Ingredient.jpg \"Cost of Ingredients\")\r\n",
    "\r\n",
    "\r\n",
    "![alt text](Ingredient_Nutrition.jpg \"Nutritional Values of Ingredient\")\r\n",
    "\r\n"
   ],
   "metadata": {}
  },
  {
   "cell_type": "code",
   "execution_count": 364,
   "source": [
    "prob = LpProblem(\"The Whiskas Problem\",LpMinimize)"
   ],
   "outputs": [],
   "metadata": {}
  },
  {
   "cell_type": "code",
   "execution_count": 365,
   "source": [
    "x1 = LpVariable(\"ChickenPercent\",0,None,LpInteger)\r\n",
    "x2 = LpVariable(\"BeefPercent\",0,None,LpInteger)\r\n",
    "x3 = LpVariable(\"MuttonPercent\",0,None,LpInteger)\r\n",
    "x4 = LpVariable(\"RicePercent\",0,None,LpInteger)\r\n",
    "x5 = LpVariable(\"WheatPercent\",0,None,LpInteger)\r\n",
    "x6 = LpVariable(\"GelPercent\",0,None,LpInteger)\r\n"
   ],
   "outputs": [],
   "metadata": {}
  },
  {
   "cell_type": "code",
   "execution_count": 366,
   "source": [
    "prob += 0.013*x1 + 0.008*x2 + 0.010*x3 + 0.002*x4 + 0.005*x5 + 0.001*x6, \"Total Cost of Ingredients Per Can\""
   ],
   "outputs": [],
   "metadata": {}
  },
  {
   "cell_type": "code",
   "execution_count": 367,
   "source": [
    "prob += x1 + x2 + x3 + x4 + x5 + x6 == 100, \"PercentagesSum\"\r\n",
    "prob += 0.100*x1 + 0.200*x2 + 0.150*x3 + 0.000*x4 + 0.040*x5 + 0.000*x6 >= 8.0, \"ProteinRequirement\"\r\n",
    "prob += 0.080*x1 + 0.100*x2 + 0.110*x3 + 0.010*x4 + 0.010*x5 + 0.000*x6 >= 6.0, \"FatRequirement\"\r\n",
    "prob += 0.001*x1 + 0.005*x2 + 0.003*x3 + 0.100*x4 + 0.150*x5 + 0.000*x6 >= 2.0, \"FibreRequirement\"\r\n",
    "prob += 0.002*x1 + 0.005*x2 + 0.007*x3 + 0.002*x4 + 0.008*x5 + 0.000*x6 <= 0.4, \"SaltRequirement\""
   ],
   "outputs": [],
   "metadata": {}
  },
  {
   "cell_type": "code",
   "execution_count": 368,
   "source": [
    "prob.writeLP(\"WhiskasModel.lp\")"
   ],
   "outputs": [
    {
     "output_type": "execute_result",
     "data": {
      "text/plain": [
       "[BeefPercent,\n",
       " ChickenPercent,\n",
       " GelPercent,\n",
       " MuttonPercent,\n",
       " RicePercent,\n",
       " WheatPercent]"
      ]
     },
     "metadata": {},
     "execution_count": 368
    }
   ],
   "metadata": {}
  },
  {
   "cell_type": "code",
   "execution_count": 369,
   "source": [
    "prob.solve()"
   ],
   "outputs": [
    {
     "output_type": "execute_result",
     "data": {
      "text/plain": [
       "1"
      ]
     },
     "metadata": {},
     "execution_count": 369
    }
   ],
   "metadata": {}
  },
  {
   "cell_type": "code",
   "execution_count": 370,
   "source": [
    "print(\"Status:\",LpStatus[prob.status])"
   ],
   "outputs": [
    {
     "output_type": "stream",
     "name": "stdout",
     "text": [
      "Status: Optimal\n"
     ]
    }
   ],
   "metadata": {}
  },
  {
   "cell_type": "code",
   "execution_count": 371,
   "source": [
    "for v in prob.variables():\r\n",
    "    print(v.name,\"=\",v.varValue)"
   ],
   "outputs": [
    {
     "output_type": "stream",
     "name": "stdout",
     "text": [
      "BeefPercent = 58.0\n",
      "ChickenPercent = 0.0\n",
      "GelPercent = 22.0\n",
      "MuttonPercent = 0.0\n",
      "RicePercent = 20.0\n",
      "WheatPercent = 0.0\n"
     ]
    }
   ],
   "metadata": {}
  },
  {
   "cell_type": "code",
   "execution_count": 372,
   "source": [
    "print (\"Total Cost of Ingredients per can = \", value(prob.objective))"
   ],
   "outputs": [
    {
     "output_type": "stream",
     "name": "stdout",
     "text": [
      "Total Cost of Ingredients per can =  0.526\n"
     ]
    }
   ],
   "metadata": {}
  },
  {
   "cell_type": "code",
   "execution_count": 373,
   "source": [
    "prob.solutionTime"
   ],
   "outputs": [
    {
     "output_type": "execute_result",
     "data": {
      "text/plain": [
       "0.7845172882080078"
      ]
     },
     "metadata": {},
     "execution_count": 373
    }
   ],
   "metadata": {}
  },
  {
   "cell_type": "markdown",
   "source": [
    "End of Problem"
   ],
   "metadata": {}
  },
  {
   "cell_type": "markdown",
   "source": [
    "Case Study2"
   ],
   "metadata": {}
  },
  {
   "cell_type": "markdown",
   "source": [
    "Consider the following linear programming (LP) problem:\r\n",
    "- Suppose there are two products that need to be manufactured: Tables and Chairs\r\n",
    "- To manufacture a product, it requires two resources: budget ($) and labor (man-days)\r\n",
    "- The resources required to manufacture each product as well as the total available amounts of each resource are given in the table below\r\n",
    "- Objective is to maximize the total number of products manufactured\r\n",
    "\r\n",
    "![alt text](CaseStudy_2.jpg \"Case Study 2\")"
   ],
   "metadata": {}
  },
  {
   "cell_type": "markdown",
   "source": [
    "Formulate Linear Programming Problem\r\n",
    "\r\n",
    "Define Decision Variables\r\n",
    "- x1 : # of Tables to be manufactured\r\n",
    "- x2 : # of Chairs to be manufactured\r\n",
    "\r\n",
    "Define Constraints\r\n",
    "- 8x1 + 4x2 <= 60\r\n",
    "- 4x1 + 8x2 <= 48\r\n",
    "- x1 > 0\r\n",
    "- x2 > 0\r\n",
    "\r\n",
    "Objective Function\r\n",
    "- Maximize z=x1+x2"
   ],
   "metadata": {}
  },
  {
   "cell_type": "code",
   "execution_count": 374,
   "source": [
    "# Create LP Problem\r\n",
    "prob = LpProblem(\"The Tables and Chairs Problem\",LpMaximize)"
   ],
   "outputs": [],
   "metadata": {}
  },
  {
   "cell_type": "code",
   "execution_count": 375,
   "source": [
    "# Create Decision Variables\r\n",
    "x1 = LpVariable(\"Tables\",0,None,LpInteger)\r\n",
    "x2 = LpVariable(\"Chairs\",0,None,LpInteger)"
   ],
   "outputs": [],
   "metadata": {}
  },
  {
   "cell_type": "code",
   "execution_count": 376,
   "source": [
    "# Create Constraints\r\n",
    "prob += 8*x1 + 4*x2 <= 60, \"Budget Constraint\"\r\n",
    "prob += 4*x1 + 8*x2 <= 48, \"Labor Constraint\""
   ],
   "outputs": [],
   "metadata": {}
  },
  {
   "cell_type": "code",
   "execution_count": 377,
   "source": [
    "# Objective Function\r\n",
    "prob += x1 + x2, \"Total Tables and Chairs\""
   ],
   "outputs": [],
   "metadata": {}
  },
  {
   "cell_type": "code",
   "execution_count": 378,
   "source": [
    "prob.writeLP(\"TablesnChairs.lp\")"
   ],
   "outputs": [
    {
     "output_type": "execute_result",
     "data": {
      "text/plain": [
       "[Chairs, Tables]"
      ]
     },
     "metadata": {},
     "execution_count": 378
    }
   ],
   "metadata": {}
  },
  {
   "cell_type": "code",
   "execution_count": 379,
   "source": [
    "prob.solve()"
   ],
   "outputs": [
    {
     "output_type": "execute_result",
     "data": {
      "text/plain": [
       "1"
      ]
     },
     "metadata": {},
     "execution_count": 379
    }
   ],
   "metadata": {}
  },
  {
   "cell_type": "code",
   "execution_count": 380,
   "source": [
    "print(\"Status:\",LpStatus[prob.status])"
   ],
   "outputs": [
    {
     "output_type": "stream",
     "name": "stdout",
     "text": [
      "Status: Optimal\n"
     ]
    }
   ],
   "metadata": {}
  },
  {
   "cell_type": "code",
   "execution_count": 381,
   "source": [
    "for v in prob.variables():\r\n",
    "    print(v.name,\"=\",v.varValue)"
   ],
   "outputs": [
    {
     "output_type": "stream",
     "name": "stdout",
     "text": [
      "Chairs = 3.0\n",
      "Tables = 6.0\n"
     ]
    }
   ],
   "metadata": {}
  },
  {
   "cell_type": "code",
   "execution_count": 382,
   "source": [
    "print (\"Total Products To Be Manufactured = \", value(prob.objective))"
   ],
   "outputs": [
    {
     "output_type": "stream",
     "name": "stdout",
     "text": [
      "Total Products To Be Manufactured =  9.0\n"
     ]
    }
   ],
   "metadata": {}
  },
  {
   "cell_type": "code",
   "execution_count": 383,
   "source": [
    "prob.solutionTime"
   ],
   "outputs": [
    {
     "output_type": "execute_result",
     "data": {
      "text/plain": [
       "0.6740050315856934"
      ]
     },
     "metadata": {},
     "execution_count": 383
    }
   ],
   "metadata": {}
  },
  {
   "cell_type": "markdown",
   "source": [
    "End of Problem"
   ],
   "metadata": {}
  },
  {
   "cell_type": "markdown",
   "source": [
    "Case Study 3"
   ],
   "metadata": {}
  },
  {
   "cell_type": "markdown",
   "source": [
    "Consider the following data for a linear program, where the objective is to maximize profit by allocating three resources (repair, paint, and labor) to fix two types of cars (Honda and Toyota). This data is given below:\r\n",
    "\r\n",
    "![alt text](CaseStudy_3.jpg \"Case Study 2\")"
   ],
   "metadata": {}
  },
  {
   "cell_type": "markdown",
   "source": [
    "Formulate Linear Programming Problem\r\n",
    "\r\n",
    "Define Decision Variables\r\n",
    "- x1 : # of Honda cars to be fixed\r\n",
    "- x2 : # of Toyota cards to be fixed\r\n",
    "\r\n",
    "Define Constraints\r\n",
    "- 2x1 + 1x2 <= 10\r\n",
    "- 3x1 + 3x2 <= 28\r\n",
    "- 2x1 + 4x2 <= 20\r\n",
    "- x1 > 0\r\n",
    "- x2 > 0\r\n",
    "\r\n",
    "Objective Function\r\n",
    "- Maximize z=20x1+30x2"
   ],
   "metadata": {}
  },
  {
   "cell_type": "code",
   "execution_count": 384,
   "source": [
    "# Create LP Problem\r\n",
    "prob = LpProblem(\"Vehicle Allocation Problem\",LpMaximize)"
   ],
   "outputs": [],
   "metadata": {}
  },
  {
   "cell_type": "code",
   "execution_count": 385,
   "source": [
    "# Create Decision Variables\r\n",
    "x1 = LpVariable(\"Honda Cars\",0,None,LpInteger)\r\n",
    "x2 = LpVariable(\"Toyota Cars\",0,None,LpInteger)"
   ],
   "outputs": [],
   "metadata": {}
  },
  {
   "cell_type": "code",
   "execution_count": 386,
   "source": [
    "# Create Constraints\r\n",
    "prob += 2*x1 + 1*x2 <= 10, \"Repair Constraint\"\r\n",
    "prob += 3*x1 + 3*x2 <= 20, \"Paint Constraint\"\r\n",
    "prob += 2*x1 + 4*x2 <= 20, \"Labor Constraint\""
   ],
   "outputs": [],
   "metadata": {}
  },
  {
   "cell_type": "code",
   "execution_count": 387,
   "source": [
    "# Objective Function\r\n",
    "prob += 20*x1 + 30*x2, \"Total Profit By Fixing Honda and Toyota Cars\""
   ],
   "outputs": [],
   "metadata": {}
  },
  {
   "cell_type": "code",
   "execution_count": 388,
   "source": [
    "prob.writeLP(\"FixCars.lp\")"
   ],
   "outputs": [
    {
     "output_type": "execute_result",
     "data": {
      "text/plain": [
       "[Honda_Cars, Toyota_Cars]"
      ]
     },
     "metadata": {},
     "execution_count": 388
    }
   ],
   "metadata": {}
  },
  {
   "cell_type": "code",
   "execution_count": 389,
   "source": [
    "prob.solve()"
   ],
   "outputs": [
    {
     "output_type": "execute_result",
     "data": {
      "text/plain": [
       "1"
      ]
     },
     "metadata": {},
     "execution_count": 389
    }
   ],
   "metadata": {}
  },
  {
   "cell_type": "code",
   "execution_count": 390,
   "source": [
    "print(\"Status:\",LpStatus[prob.status])"
   ],
   "outputs": [
    {
     "output_type": "stream",
     "name": "stdout",
     "text": [
      "Status: Optimal\n"
     ]
    }
   ],
   "metadata": {}
  },
  {
   "cell_type": "code",
   "execution_count": 391,
   "source": [
    "for v in prob.variables():\r\n",
    "    print(v.name,\"=\",v.varValue)"
   ],
   "outputs": [
    {
     "output_type": "stream",
     "name": "stdout",
     "text": [
      "Honda_Cars = 2.0\n",
      "Toyota_Cars = 4.0\n"
     ]
    }
   ],
   "metadata": {}
  },
  {
   "cell_type": "code",
   "execution_count": 392,
   "source": [
    "print (\"Total Products To Be Manufactured = \", value(prob.objective))"
   ],
   "outputs": [
    {
     "output_type": "stream",
     "name": "stdout",
     "text": [
      "Total Products To Be Manufactured =  160.0\n"
     ]
    }
   ],
   "metadata": {}
  },
  {
   "cell_type": "code",
   "execution_count": 394,
   "source": [
    "prob.solutionTime"
   ],
   "outputs": [
    {
     "output_type": "execute_result",
     "data": {
      "text/plain": [
       "0.6289806365966797"
      ]
     },
     "metadata": {},
     "execution_count": 394
    }
   ],
   "metadata": {}
  },
  {
   "cell_type": "markdown",
   "source": [
    "End of Problem"
   ],
   "metadata": {}
  },
  {
   "cell_type": "markdown",
   "source": [
    "- Transportation problem\r\n",
    "- Integer Programming\r\n",
    "- Machine Learning as Optimization Problem"
   ],
   "metadata": {}
  },
  {
   "cell_type": "markdown",
   "source": [
    "Transportation Problem\r\n",
    "- Given a set of supply nodes indexed by the set and demand nodes indexed by the set\r\n",
    "- Supply nodes have available supply, and demand nodes require volumne\r\n",
    "- Every supply node can ship to every demand node, and the per- unit cost of shipping from supply node i to demand node j\r\n",
    "\r\n",
    "![alt text](CaseStudy_4.jpg \"Case Study 2\")"
   ],
   "metadata": {}
  },
  {
   "cell_type": "code",
   "execution_count": 395,
   "source": [
    "# Define Nodes\r\n",
    "supply_nodes = dict(s1=15,s2=25)\r\n",
    "demand_nodes = dict(d1=15,d2=12,d3=13)\r\n",
    "print ('Total Supply Nodes: ',len(supply_nodes))\r\n",
    "print ('Total Demand Nodes: ',len(demand_nodes))\r\n"
   ],
   "outputs": [
    {
     "output_type": "stream",
     "name": "stdout",
     "text": [
      "Total Supply Nodes:  2\n",
      "Total Demand Nodes:  3\n"
     ]
    }
   ],
   "metadata": {}
  },
  {
   "cell_type": "code",
   "execution_count": 396,
   "source": [
    "# Sum-up Supply Availability and Demand Requirement\r\n",
    "total_supply = np.sum(list(supply_nodes.values()))\r\n",
    "total_demand = np.sum(list(demand_nodes.values()))\r\n",
    "print ('Total Supply Available: ',total_supply)\r\n",
    "print ('Total Demand Required: ',total_demand)"
   ],
   "outputs": [
    {
     "output_type": "stream",
     "name": "stdout",
     "text": [
      "Total Supply Available:  40\n",
      "Total Demand Required:  40\n"
     ]
    }
   ],
   "metadata": {}
  },
  {
   "cell_type": "code",
   "execution_count": 397,
   "source": [
    "# Evaluate Problem Based on Total Supply and Demand\r\n",
    "if total_supply == total_demand:\r\n",
    "    print ('Balanced Solution')\r\n",
    "elif total_supply > total_demand:\r\n",
    "    print ('Feasible Solution')\r\n",
    "else:\r\n",
    "    print ('Infeasible Solution Due to Demand Not Met')"
   ],
   "outputs": [
    {
     "output_type": "stream",
     "name": "stdout",
     "text": [
      "Balanced Solution\n"
     ]
    }
   ],
   "metadata": {}
  },
  {
   "cell_type": "code",
   "execution_count": 398,
   "source": [
    "# Define Cost Matrix, Assuming Every Supply Node Can Satisfy Every Demand Node\r\n",
    "route_costs = dict(c11=10,c12=7,c13=3,c21=4,c22=9,c23=8)\r\n",
    "print ('Total Routes: ',len(route_costs))"
   ],
   "outputs": [
    {
     "output_type": "stream",
     "name": "stdout",
     "text": [
      "Total Routes:  6\n"
     ]
    }
   ],
   "metadata": {}
  },
  {
   "cell_type": "code",
   "execution_count": 400,
   "source": [
    "# Define Transportation Problem To Minimize Overall Cost\r\n",
    "prob = LpProblem(\"The Transportation Problem\",LpMinimize)"
   ],
   "outputs": [],
   "metadata": {}
  },
  {
   "cell_type": "code",
   "execution_count": 401,
   "source": [
    "# Define Decision Variables, How much to move from Supply Node i to Demand Node j\r\n",
    "x11 = LpVariable(\"1to1\",1,None,LpInteger)\r\n",
    "x12 = LpVariable(\"1to2\",1,None,LpInteger)\r\n",
    "x13 = LpVariable(\"1to3\",1,None,LpInteger)\r\n",
    "x21 = LpVariable(\"2to1\",1,None,LpInteger)\r\n",
    "x22 = LpVariable(\"2to2\",1,None,LpInteger)\r\n",
    "x23 = LpVariable(\"2to3\",1,None,LpInteger)"
   ],
   "outputs": [],
   "metadata": {}
  },
  {
   "cell_type": "code",
   "execution_count": 402,
   "source": [
    "# Total Cost of Transportation\r\n",
    "prob += route_costs['c11']*x11 + route_costs['c12']*x12 + route_costs['c13']*x13 + route_costs['c21']*x21 + route_costs['c22']*x22 + route_costs['c23']*x23, \"Total Cost of Transportation\""
   ],
   "outputs": [],
   "metadata": {}
  },
  {
   "cell_type": "code",
   "execution_count": 403,
   "source": [
    "# Supply and Demand Constraints\r\n",
    "prob += x11 + x12 + x13 <= supply_nodes['s1'], \"Supply Constraint S1\"\r\n",
    "prob += x21 + x22 + x23 <= supply_nodes['s2'], \"Supply Constraint S2\"\r\n",
    "prob += x11 + x21 >= demand_nodes['d1'], \"Demand Constraint D1\"\r\n",
    "prob += x12 + x22 >= demand_nodes['d2'], \"Demand Constraint D2\"\r\n",
    "prob += x13 + x23 >= demand_nodes['d3'], \"Demand Constraint D3\""
   ],
   "outputs": [],
   "metadata": {}
  },
  {
   "cell_type": "code",
   "execution_count": 404,
   "source": [
    "# Write Linear Programming Formulation\r\n",
    "prob.writeLP(\"Transportation.lp\")"
   ],
   "outputs": [
    {
     "output_type": "execute_result",
     "data": {
      "text/plain": [
       "[1to1, 1to2, 1to3, 2to1, 2to2, 2to3]"
      ]
     },
     "metadata": {},
     "execution_count": 404
    }
   ],
   "metadata": {}
  },
  {
   "cell_type": "code",
   "execution_count": 405,
   "source": [
    "# Solve\r\n",
    "prob.solve()"
   ],
   "outputs": [
    {
     "output_type": "execute_result",
     "data": {
      "text/plain": [
       "1"
      ]
     },
     "metadata": {},
     "execution_count": 405
    }
   ],
   "metadata": {}
  },
  {
   "cell_type": "code",
   "execution_count": 406,
   "source": [
    "# Is it Optimal\r\n",
    "print(\"Status:\",LpStatus[prob.status])"
   ],
   "outputs": [
    {
     "output_type": "stream",
     "name": "stdout",
     "text": [
      "Status: Optimal\n"
     ]
    }
   ],
   "metadata": {}
  },
  {
   "cell_type": "code",
   "execution_count": 407,
   "source": [
    "# Variable Values, Parameters\r\n",
    "for v in prob.variables():\r\n",
    "    print(v.name,\"=\",v.varValue)"
   ],
   "outputs": [
    {
     "output_type": "stream",
     "name": "stdout",
     "text": [
      "1to1 = 1.0\n",
      "1to2 = 2.0\n",
      "1to3 = 12.0\n",
      "2to1 = 14.0\n",
      "2to2 = 10.0\n",
      "2to3 = 1.0\n"
     ]
    }
   ],
   "metadata": {}
  },
  {
   "cell_type": "code",
   "execution_count": 408,
   "source": [
    "# Objective Value\r\n",
    "print (\"Total Cost of Transportation = \", value(prob.objective))"
   ],
   "outputs": [
    {
     "output_type": "stream",
     "name": "stdout",
     "text": [
      "Total Cost of Transportation =  214.0\n"
     ]
    }
   ],
   "metadata": {}
  },
  {
   "cell_type": "code",
   "execution_count": 409,
   "source": [
    "prob.constraints"
   ],
   "outputs": [
    {
     "output_type": "execute_result",
     "data": {
      "text/plain": [
       "OrderedDict([('Supply_Constraint_S1', 1*1to1 + 1*1to2 + 1*1to3 + -15 <= 0),\n",
       "             ('Supply_Constraint_S2', 1*2to1 + 1*2to2 + 1*2to3 + -25 <= 0),\n",
       "             ('Demand_Constraint_D1', 1*1to1 + 1*2to1 + -15 >= 0),\n",
       "             ('Demand_Constraint_D2', 1*1to2 + 1*2to2 + -12 >= 0),\n",
       "             ('Demand_Constraint_D3', 1*1to3 + 1*2to3 + -13 >= 0)])"
      ]
     },
     "metadata": {},
     "execution_count": 409
    }
   ],
   "metadata": {}
  },
  {
   "cell_type": "code",
   "execution_count": 410,
   "source": [
    "prob.solutionTime"
   ],
   "outputs": [
    {
     "output_type": "execute_result",
     "data": {
      "text/plain": [
       "0.6611237525939941"
      ]
     },
     "metadata": {},
     "execution_count": 410
    }
   ],
   "metadata": {}
  },
  {
   "cell_type": "markdown",
   "source": [
    "End of Problem"
   ],
   "metadata": {}
  },
  {
   "cell_type": "markdown",
   "source": [
    "Case Study 4"
   ],
   "metadata": {}
  },
  {
   "cell_type": "markdown",
   "source": [
    "What is Meant By Mean ?"
   ],
   "metadata": {}
  },
  {
   "cell_type": "markdown",
   "source": [
    "Formulate Linear Programming Problem\r\n",
    "\r\n",
    "Define Decision Variables / Parameter\r\n",
    "- x : # Identify that numbers which is closer to all members of data\r\n",
    "\r\n",
    "Define Constraints\r\n",
    "- x >\r\n",
    "\r\n",
    "Objective Function\r\n",
    "- Maximize z=20x1+30x2"
   ],
   "metadata": {}
  },
  {
   "cell_type": "code",
   "execution_count": null,
   "source": [
    "data = [4.18,1.94,3.72,3.87,6.95,6.86,6.17,1.89,6.86,5.46,2.28,7.01]"
   ],
   "outputs": [],
   "metadata": {}
  },
  {
   "cell_type": "code",
   "execution_count": null,
   "source": [
    "# Create LP Problem\r\n",
    "prob = LpProblem(\"Number Closer To Entire Data Elements\",LpMinimize)\r\n",
    "\r\n",
    "# Create Decision Variables\r\n",
    "x = LpVariable(\"Average\",0,None)"
   ],
   "outputs": [],
   "metadata": {}
  },
  {
   "cell_type": "code",
   "execution_count": null,
   "source": [
    "prob.solve()"
   ],
   "outputs": [],
   "metadata": {}
  },
  {
   "cell_type": "code",
   "execution_count": null,
   "source": [
    "print(\"Status:\",LpStatus[prob.status])"
   ],
   "outputs": [],
   "metadata": {}
  },
  {
   "cell_type": "code",
   "execution_count": null,
   "source": [
    "for v in prob.variables():\r\n",
    "    print(v.name,\"=\",v.varValue)"
   ],
   "outputs": [],
   "metadata": {}
  },
  {
   "cell_type": "code",
   "execution_count": null,
   "source": [
    "print (\"Total Value = \", value(prob.objective))"
   ],
   "outputs": [],
   "metadata": {}
  },
  {
   "cell_type": "code",
   "execution_count": null,
   "source": [
    "sum = 0\r\n",
    "for i in range(0,len(data)):\r\n",
    "    sum+=(x-data[i])*(x-data[i])"
   ],
   "outputs": [],
   "metadata": {}
  },
  {
   "cell_type": "markdown",
   "source": [
    "Sudoku Problem"
   ],
   "metadata": {}
  },
  {
   "cell_type": "code",
   "execution_count": null,
   "source": [
    "Boxes = [\r\n",
    "    [(3 * i + k + 1, 3 * j + l + 1) for k in range(3) for l in range(3)]\r\n",
    "    for i in range(3)\r\n",
    "    for j in range(3)\r\n",
    "]"
   ],
   "outputs": [],
   "metadata": {}
  },
  {
   "cell_type": "code",
   "execution_count": null,
   "source": [
    "prob = LpProblem(\"Sudoku Problem\")"
   ],
   "outputs": [],
   "metadata": {}
  },
  {
   "cell_type": "code",
   "execution_count": null,
   "source": [
    "VALS = ROWS = COLS = range(1,10)"
   ],
   "outputs": [],
   "metadata": {}
  },
  {
   "cell_type": "code",
   "execution_count": null,
   "source": [
    "# Decision Variables\r\n",
    "choices = LpVariable.dicts(\"Choice\",(VALS,ROWS,COLS),cat=\"Binary\")"
   ],
   "outputs": [],
   "metadata": {}
  },
  {
   "cell_type": "code",
   "execution_count": null,
   "source": [
    "for r in ROWS:\r\n",
    "    for c in COLS:\r\n",
    "        prob += lpSum([choices[v][r][c] for v in VALS]) == 1"
   ],
   "outputs": [],
   "metadata": {}
  },
  {
   "cell_type": "code",
   "execution_count": null,
   "source": [
    "for v in VALS:\r\n",
    "    for r in ROWS:\r\n",
    "        prob += lpSum([choices[v][r][c] for c in COLS]) == 1\r\n",
    "\r\n",
    "    for c in COLS:\r\n",
    "        prob += lpSum([choices[v][r][c] for r in ROWS]) == 1\r\n",
    "\r\n",
    "    for b in Boxes:\r\n",
    "        prob += lpSum([choices[v][r][c] for (r, c) in b]) == 1"
   ],
   "outputs": [],
   "metadata": {}
  },
  {
   "cell_type": "code",
   "execution_count": null,
   "source": [
    "input_data = [\r\n",
    "    (5, 1, 1),\r\n",
    "    (6, 2, 1),\r\n",
    "    (8, 4, 1),\r\n",
    "    (4, 5, 1),\r\n",
    "    (7, 6, 1),\r\n",
    "    (3, 1, 2),\r\n",
    "    (9, 3, 2),\r\n",
    "    (6, 7, 2),\r\n",
    "    (8, 3, 3),\r\n",
    "    (1, 2, 4),\r\n",
    "    (8, 5, 4),\r\n",
    "    (4, 8, 4),\r\n",
    "    (7, 1, 5),\r\n",
    "    (9, 2, 5),\r\n",
    "    (6, 4, 5),\r\n",
    "    (2, 6, 5),\r\n",
    "    (1, 8, 5),\r\n",
    "    (8, 9, 5),\r\n",
    "    (5, 2, 6),\r\n",
    "    (3, 5, 6),\r\n",
    "    (9, 8, 6),\r\n",
    "    (2, 7, 7),\r\n",
    "    (6, 3, 8),\r\n",
    "    (8, 7, 8),\r\n",
    "    (7, 9, 8),\r\n",
    "    (3, 4, 9),\r\n",
    "    (1, 5, 9),\r\n",
    "    (6, 6, 9),\r\n",
    "    (5, 8, 9),\r\n",
    "]\r\n",
    "\r\n",
    "for (v, r, c) in input_data:\r\n",
    "    prob += choices[v][r][c] == 1"
   ],
   "outputs": [],
   "metadata": {}
  },
  {
   "cell_type": "code",
   "execution_count": null,
   "source": [
    "prob.writeLP(\"Sudoku.lp\")"
   ],
   "outputs": [],
   "metadata": {}
  },
  {
   "cell_type": "code",
   "execution_count": null,
   "source": [
    "prob.solve()"
   ],
   "outputs": [],
   "metadata": {}
  },
  {
   "cell_type": "code",
   "execution_count": null,
   "source": [
    "print(\"Status:\", LpStatus[prob.status])"
   ],
   "outputs": [],
   "metadata": {}
  },
  {
   "cell_type": "code",
   "execution_count": null,
   "source": [
    "sudokuout = open(\"sudokuout.txt\", \"w\")\r\n",
    "for r in ROWS:\r\n",
    "    if r in [1, 4, 7]:\r\n",
    "        sudokuout.write(\"+-------+-------+-------+\\n\")\r\n",
    "    for c in COLS:\r\n",
    "        for v in VALS:\r\n",
    "            if value(choices[v][r][c]) == 1:\r\n",
    "                if c in [1, 4, 7]:\r\n",
    "                    sudokuout.write(\"| \")\r\n",
    "                sudokuout.write(str(v) + \" \")\r\n",
    "                if c == 9:\r\n",
    "                    sudokuout.write(\"|\\n\")\r\n",
    "sudokuout.write(\"+-------+-------+-------+\")\r\n",
    "sudokuout.close()"
   ],
   "outputs": [],
   "metadata": {}
  },
  {
   "cell_type": "markdown",
   "source": [
    "# Decision Variables"
   ],
   "metadata": {}
  },
  {
   "cell_type": "markdown",
   "source": [],
   "metadata": {}
  }
 ],
 "metadata": {
  "orig_nbformat": 4,
  "language_info": {
   "name": "python",
   "version": "3.8.8",
   "mimetype": "text/x-python",
   "codemirror_mode": {
    "name": "ipython",
    "version": 3
   },
   "pygments_lexer": "ipython3",
   "nbconvert_exporter": "python",
   "file_extension": ".py"
  },
  "kernelspec": {
   "name": "python3",
   "display_name": "Python 3.8.8 64-bit ('base': conda)"
  },
  "interpreter": {
   "hash": "ca66ce2a36636589c4a8db570f7b81618111e3d6e8af9eb817a93f8dd7996b3a"
  }
 },
 "nbformat": 4,
 "nbformat_minor": 2
}